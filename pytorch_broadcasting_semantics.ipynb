{
 "cells": [
  {
   "cell_type": "code",
   "execution_count": 4,
   "metadata": {},
   "outputs": [],
   "source": [
    "import torch\n",
    "\n",
    "# same shapes are always broadcastable\n",
    "x=torch.empty(5,7,3)\n",
    "y=torch.empty(5,7,3)\n",
    "\n",
    "# x and y are not broadcastable, because x does not have at least 1 dimension\n",
    "x=torch.empty((0,))\n",
    "y=torch.empty(2,2)\n",
    "\n",
    "# x and y are broadcastable\n",
    "# 1st trailing dimension: both have size 1\n",
    "# 2nd trailing dimension: y has size 1\n",
    "# 3rd trailing dimension: x size == y size\n",
    "# 4th trailing dimension: y dimension doesn't exist\n",
    "x=torch.empty(5,3,4,1)\n",
    "y=torch.empty(  3,1,1)\n",
    "\n",
    "# but:\n",
    "# x and y are not broadcastable, because in the 3rd trailing dimension 2 != 3\n",
    "x=torch.empty(5,2,4,1)\n",
    "y=torch.empty(  3,1,1)"
   ]
  },
  {
   "cell_type": "markdown",
   "metadata": {},
   "source": [
    "### Rules of broadcasting semantics\n",
    "- Each tensor has at least one dimension\n",
    "- When iterating over the dimension sizes, starting at the trailing dimension, the dimension sizes must either be equal, one of them is 1, or one of them does not exist"
   ]
  },
  {
   "cell_type": "code",
   "execution_count": null,
   "metadata": {},
   "outputs": [],
   "source": [
    "# Very simple example\n",
    "x=torch.empty(5,3)\n",
    "y=torch.empty(5,1)\n",
    "\n",
    "# Multiplying a 5x3 array by 5x1 will work since it follows the rules that one of the\n",
    "# dimensions is 1\n",
    "\n",
    "# Pytorch will add the missing cells in the 5x1 array by copying the\n",
    "# value inside the ith and jth cell\n",
    "# Example\n",
    "\n",
    "# 5x1 array\n",
    "# | 1 |\n",
    "# | 2 |\n",
    "# | 3 |\n",
    "# | 4 |\n",
    "# | 5 |\n",
    "\n",
    "# Since the 5x3 array has three columns, pytorch will change 5x1 -> 5x3 to match the\n",
    "# number the number of columns in the 5x3 array\n",
    "\n",
    "# 5x1 -> 5x3 array\n",
    "# Copies the existing values to append the missing cells\n",
    "# | 1 | 1 | 1\n",
    "# | 2 | 2 | 2\n",
    "# | 3 | 3 | 3\n",
    "# | 4 | 4 | 4\n",
    "# | 5 | 5 | 5\n"
   ]
  }
 ],
 "metadata": {
  "kernelspec": {
   "display_name": "Python 3",
   "language": "python",
   "name": "python3"
  },
  "language_info": {
   "codemirror_mode": {
    "name": "ipython",
    "version": 3
   },
   "file_extension": ".py",
   "mimetype": "text/x-python",
   "name": "python",
   "nbconvert_exporter": "python",
   "pygments_lexer": "ipython3",
   "version": "3.11.9"
  }
 },
 "nbformat": 4,
 "nbformat_minor": 2
}
